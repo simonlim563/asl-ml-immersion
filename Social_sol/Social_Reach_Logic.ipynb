{
  "nbformat": 4,
  "nbformat_minor": 0,
  "metadata": {
    "colab": {
      "provenance": [],
      "authorship_tag": "ABX9TyPgpSjSbzmRCnuPqDRMRDFe",
      "include_colab_link": true
    },
    "kernelspec": {
      "name": "python3",
      "display_name": "Python 3"
    },
    "language_info": {
      "name": "python"
    }
  },
  "cells": [
    {
      "cell_type": "markdown",
      "metadata": {
        "id": "view-in-github",
        "colab_type": "text"
      },
      "source": [
        "<a href=\"https://colab.research.google.com/github/simonlim563/asl-ml-immersion/blob/master/Social_sol/Social_Reach_Logic.ipynb\" target=\"_parent\"><img src=\"https://colab.research.google.com/assets/colab-badge.svg\" alt=\"Open In Colab\"/></a>"
      ]
    },
    {
      "cell_type": "code",
      "execution_count": 1,
      "metadata": {
        "id": "CNYpfntnKvot"
      },
      "outputs": [],
      "source": [
        "import numpy as np\n",
        "import pandas as pd\n",
        "import matplotlib.pyplot as plt\n"
      ]
    },
    {
      "cell_type": "markdown",
      "source": [
        "| Metric                            | Meta             | TikTok           |\n",
        "| --------------------------------- | ---------------- | ---------------- |\n",
        "| `Platform_Unique_Reach`           | ✅                | ✅                |\n",
        "| `Estimated_Total_Reach`           | ✅                | ✅                |\n",
        "| `Impressions`                     | ✅                | ✅                |\n",
        "| `Spend`                           | ✅                | ✅                |\n",
        "| `Frequency`                       | (can be derived) | (can be derived) |\n",
        "| `CPM` (Cost per 1000 impressions) | (can be derived) | (can be derived) |\n",
        "| `Estimated Overlap`               | ❓                | ❓                |\n",
        "| `Saturation percentage`           | (can be derived) | (can be derived) |\n",
        "| `Cost per incremental reach`           | (can be derived) | (can be derived) |"
      ],
      "metadata": {
        "id": "5EEl2NuKPDUJ"
      }
    },
    {
      "cell_type": "code",
      "source": [
        "# ----- INPUT PARAMETERS -----\n",
        "\n",
        "# Total budget in $ (can simulate multiple values)\n",
        "total_budget = 100000\n",
        "\n",
        "# CPMs (cost per 1,000 impressions) or modeled cost per unique reach\n",
        "cpm_meta = 5.0     # example: $5\n",
        "cpm_tiktok = 4.0   # example: $4\n",
        "\n",
        "# Reach efficiency = users per $1 (inverse of CPM)\n",
        "reach_per_dollar_meta = 1000 / cpm_meta\n",
        "reach_per_dollar_tiktok = 1000 / cpm_tiktok\n",
        "\n",
        "# Overlap assumption: percent of audience that sees both if equally targeted\n",
        "# E.g., 25% overlap = 0.25\n",
        "overlap_rate = 0.25\n",
        "\n",
        "# Allocation splits (0% to Meta, 100% to Meta)\n",
        "splits = np.arange(0, 1.01, 0.05)  # 0%, 5%, ..., 100%"
      ],
      "metadata": {
        "id": "26CLWCMsL4Mz"
      },
      "execution_count": 2,
      "outputs": []
    },
    {
      "cell_type": "code",
      "source": [],
      "metadata": {
        "id": "rBRyyaiEpa_Y"
      },
      "execution_count": null,
      "outputs": []
    },
    {
      "cell_type": "code",
      "source": [
        "# ----- SIMULATION FUNCTION -----\n",
        "\n",
        "results = []\n",
        "\n",
        "for split in splits:\n",
        "    budget_meta = total_budget * split\n",
        "    budget_tiktok = total_budget * (1 - split)\n",
        "\n",
        "    reach_meta = budget_meta * reach_per_dollar_meta\n",
        "    reach_tiktok = budget_tiktok * reach_per_dollar_tiktok\n",
        "\n",
        "    # Estimated overlap (simplified)\n",
        "    overlap = min(reach_meta, reach_tiktok) * overlap_rate\n",
        "\n",
        "    deduplicated_reach = reach_meta + reach_tiktok - overlap\n",
        "\n",
        "    results.append({\n",
        "        'Meta %': round(split * 100),\n",
        "        'Meta Spend ($)': budget_meta,\n",
        "        'TikTok Spend ($)': budget_tiktok,\n",
        "        'Reach Meta': reach_meta,\n",
        "        'Reach TikTok': reach_tiktok,\n",
        "        'Overlap Est.': overlap,\n",
        "        'Deduplicated Reach': deduplicated_reach\n",
        "    })"
      ],
      "metadata": {
        "id": "Xg6Hbn6nMbjo"
      },
      "execution_count": 3,
      "outputs": []
    },
    {
      "cell_type": "code",
      "source": [
        "# Convert to DataFrame\n",
        "df = pd.DataFrame(results)\n",
        "\n",
        "# ----- OUTPUT: Print + Plot -----\n",
        "\n",
        "print(df[['Meta %', 'Deduplicated Reach']])\n",
        "\n",
        "plt.figure(figsize=(10,6))\n",
        "plt.plot(df['Meta %'], df['Deduplicated Reach'], marker='o')\n",
        "plt.title('Deduplicated Reach vs. Meta Budget Allocation')\n",
        "plt.xlabel('% Budget to Meta')\n",
        "plt.ylabel('Estimated Deduplicated Reach')\n",
        "plt.grid(True)\n",
        "plt.show()"
      ],
      "metadata": {
        "id": "zxGpleY_OkYP",
        "outputId": "7bf3f2fc-3c0e-4df1-c321-8766c5926561",
        "colab": {
          "base_uri": "https://localhost:8080/",
          "height": 946
        }
      },
      "execution_count": 4,
      "outputs": [
        {
          "output_type": "stream",
          "name": "stdout",
          "text": [
            "    Meta %  Deduplicated Reach\n",
            "0        0          25000000.0\n",
            "1        5          24500000.0\n",
            "2       10          24000000.0\n",
            "3       15          23500000.0\n",
            "4       20          23000000.0\n",
            "5       25          22500000.0\n",
            "6       30          22000000.0\n",
            "7       35          21500000.0\n",
            "8       40          21000000.0\n",
            "9       45          20500000.0\n",
            "10      50          20000000.0\n",
            "11      55          19500000.0\n",
            "12      60          19500000.0\n",
            "13      65          19562500.0\n",
            "14      70          19625000.0\n",
            "15      75          19687500.0\n",
            "16      80          19750000.0\n",
            "17      85          19812500.0\n",
            "18      90          19875000.0\n",
            "19      95          19937500.0\n",
            "20     100          20000000.0\n"
          ]
        },
        {
          "output_type": "display_data",
          "data": {
            "text/plain": [
              "<Figure size 1000x600 with 1 Axes>"
            ],
            "image/png": "[encoded data removed]"
          },
          "metadata": {}
        }
      ]
    },
    {
      "cell_type": "markdown",
      "source": [],
      "metadata": {
        "id": "EEk5tg_MPCX3"
      }
    },
    {
      "cell_type": "code",
      "source": [
        "import numpy as np\n",
        "import pandas as pd\n",
        "import matplotlib.pyplot as plt\n",
        "\n",
        "# ----- INPUT PARAMETERS -----\n",
        "\n",
        "total_budget = 100000  # Total budget in $\n",
        "overlap_rate = 0.25    # Assumed audience overlap rate between platforms\n",
        "\n",
        "# Modeled saturation parameters using logarithmic growth (diminishing returns)\n",
        "# These parameters represent \"maximum possible unique reach\" per platform\n",
        "max_reach_meta = 4000000\n",
        "max_reach_tiktok = 3500000\n",
        "\n",
        "# Efficiency scaling (how fast spend reaches saturation)\n",
        "efficiency_meta = 0.00005\n",
        "efficiency_tiktok = 0.00007\n",
        "\n",
        "# Allocation splits (0% to Meta, 100% to Meta)\n",
        "splits = np.arange(0, 1.01, 0.05)\n",
        "\n",
        "# ----- SIMULATION FUNCTION -----\n",
        "\n",
        "def reach_with_diminishing_returns(budget, max_reach, efficiency):\n",
        "    \"\"\"\n",
        "    Saturation model using logarithmic growth function\n",
        "    \"\"\"\n",
        "    return max_reach * (1 - np.exp(-efficiency * budget))\n",
        "\n",
        "results = []\n",
        "\n",
        "for split in splits:\n",
        "    budget_meta = total_budget * split\n",
        "    budget_tiktok = total_budget * (1 - split)\n",
        "\n",
        "    reach_meta = reach_with_diminishing_returns(budget_meta, max_reach_meta, efficiency_meta)\n",
        "    reach_tiktok = reach_with_diminishing_returns(budget_tiktok, max_reach_tiktok, efficiency_tiktok)\n",
        "\n",
        "    # Estimated overlap: proportional to minimum of both reaches\n",
        "    overlap = min(reach_meta, reach_tiktok) * overlap_rate\n",
        "\n",
        "    deduplicated_reach = reach_meta + reach_tiktok - overlap\n",
        "\n",
        "    results.append({\n",
        "        'Meta %': round(split * 100),\n",
        "        'Meta Spend ($)': budget_meta,\n",
        "        'TikTok Spend ($)': budget_tiktok,\n",
        "        'Reach Meta': reach_meta,\n",
        "        'Reach TikTok': reach_tiktok,\n",
        "        'Overlap Est.': overlap,\n",
        "        'Deduplicated Reach': deduplicated_reach\n",
        "    })\n",
        "\n",
        "# Convert to DataFrame\n",
        "df = pd.DataFrame(results)\n",
        "\n",
        "# ----- OUTPUT: Print + Plot -----\n",
        "\n",
        "df[['Meta %', 'Deduplicated Reach']].head(), df[df['Deduplicated Reach'] == df['Deduplicated Reach'].max()]\n"
      ],
      "metadata": {
        "id": "PDwiM15jOkbD",
        "outputId": "7ef8d2b4-5f88-4c4c-bae0-5c16d4ece688",
        "colab": {
          "base_uri": "https://localhost:8080/"
        }
      },
      "execution_count": 1,
      "outputs": [
        {
          "output_type": "execute_result",
          "data": {
            "text/plain": [
              "(   Meta %  Deduplicated Reach\n",
              " 0       0        3.496808e+06\n",
              " 1       5        4.159069e+06\n",
              " 2      10        4.673981e+06\n",
              " 3      15        5.073780e+06\n",
              " 4      20        5.383419e+06,\n",
              "     Meta %  Meta Spend ($)  TikTok Spend ($)    Reach Meta  Reach TikTok  \\\n",
              " 12      60         60000.0           40000.0  3.800852e+06  3.287165e+06   \n",
              " \n",
              "      Overlap Est.  Deduplicated Reach  \n",
              " 12  821791.195203        6.266225e+06  )"
            ]
          },
          "metadata": {},
          "execution_count": 1
        }
      ]
    },
    {
      "cell_type": "code",
      "source": [],
      "metadata": {
        "id": "PgAO7fGgp1yH"
      },
      "execution_count": null,
      "outputs": []
    }
  ]
}